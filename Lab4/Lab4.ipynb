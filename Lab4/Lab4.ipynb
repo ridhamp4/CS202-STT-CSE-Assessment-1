{
 "cells": [
  {
   "cell_type": "code",
   "execution_count": 7,
   "metadata": {},
   "outputs": [
    {
     "name": "stdout",
     "output_type": "stream",
     "text": [
      "Defaulting to user installation because normal site-packages is not writeable\n",
      "\u001b[33mDEPRECATION: Loading egg at /usr/local/lib/python3.13/dist-packages/CSXCAD-0.6.2-py3.13-linux-x86_64.egg is deprecated. pip 25.1 will enforce this behaviour change. A possible replacement is to use pip for package installation. Discussion can be found at https://github.com/pypa/pip/issues/12330\u001b[0m\u001b[33m\n",
      "\u001b[0m\u001b[33mDEPRECATION: Loading egg at /usr/local/lib/python3.13/dist-packages/openEMS-0.0.36-py3.13-linux-x86_64.egg is deprecated. pip 25.1 will enforce this behaviour change. A possible replacement is to use pip for package installation. Discussion can be found at https://github.com/pypa/pip/issues/12330\u001b[0m\u001b[33m\n",
      "\u001b[0mRequirement already satisfied: pydriller in /home/ridham/.local/lib/python3.13/site-packages (2.9)\n",
      "Requirement already satisfied: tqdm in /usr/lib/python3/dist-packages (4.67.1)\n",
      "Requirement already satisfied: gitpython in /home/ridham/.local/lib/python3.13/site-packages (from pydriller) (3.1.45)\n",
      "Requirement already satisfied: pytz in /usr/lib/python3/dist-packages (from pydriller) (2025.1)\n",
      "Requirement already satisfied: types-pytz in /usr/lib/python3/dist-packages (from pydriller) (2024.2)\n",
      "Requirement already satisfied: lizard in /home/ridham/.local/lib/python3.13/site-packages (from pydriller) (1.17.31)\n",
      "Requirement already satisfied: gitdb<5,>=4.0.1 in /home/ridham/.local/lib/python3.13/site-packages (from gitpython->pydriller) (4.0.12)\n",
      "Requirement already satisfied: pygments in /usr/lib/python3/dist-packages (from lizard->pydriller) (2.18.0)\n",
      "Requirement already satisfied: pathspec in /home/ridham/.local/lib/python3.13/site-packages (from lizard->pydriller) (0.12.1)\n",
      "Requirement already satisfied: smmap<6,>=3.0.1 in /home/ridham/.local/lib/python3.13/site-packages (from gitdb<5,>=4.0.1->gitpython->pydriller) (5.0.2)\n",
      "Note: you may need to restart the kernel to use updated packages.\n"
     ]
    }
   ],
   "source": [
    "%pip install pydriller tqdm --break-system-packages"
   ]
  },
  {
   "cell_type": "markdown",
   "metadata": {},
   "source": [
    "## Activity (a): Repository Selection"
   ]
  },
  {
   "cell_type": "code",
   "execution_count": 2,
   "metadata": {},
   "outputs": [
    {
     "data": {
      "text/plain": [
       "['https://github.com/1Password/for-open-source',\n",
       " 'https://github.com/11ty/eleventy',\n",
       " 'https://github.com/24pullrequests/24pullrequests']"
      ]
     },
     "execution_count": 2,
     "metadata": {},
     "output_type": "execute_result"
    }
   ],
   "source": [
    "# Just placeholders, replace with your chosen repos (must NOT be ones used in Lab 2/3)\n",
    "repos = [\n",
    "    \"https://github.com/1Password/for-open-source\",\n",
    "    \"https://github.com/11ty/eleventy\",\n",
    "    \"https://github.com/24pullrequests/24pullrequests\"\n",
    "]\n",
    "\n",
    "repos\n"
   ]
  },
  {
   "cell_type": "markdown",
   "metadata": {},
   "source": [
    "## Activity (c): Run Software Tool (pydriller + diff algorithms)"
   ]
  },
  {
   "cell_type": "code",
   "execution_count": null,
   "metadata": {},
   "outputs": [
    {
     "name": "stderr",
     "output_type": "stream",
     "text": [
      "Cloning into './cloned_repos/for-open-source'...\n",
      "Processing for-open-source: 2649commit [02:44, 16.11commit/s]\n",
      "Cloning into './cloned_repos/eleventy'...\n",
      "Processing eleventy: 3418commit [04:28, 12.71commit/s]\n",
      "Cloning into './cloned_repos/24pullrequests'...\n",
      "Processing 24pullrequests: 6304commit [03:38, 28.91commit/s]"
     ]
    },
    {
     "name": "stdout",
     "output_type": "stream",
     "text": [
      "Finished. Results saved to lab4_diffs_raw_new.csv\n"
     ]
    },
    {
     "name": "stderr",
     "output_type": "stream",
     "text": [
      "\n"
     ]
    }
   ],
   "source": [
    "from pydriller import Repository\n",
    "import os\n",
    "import csv\n",
    "from tqdm import tqdm\n",
    "import pandas as pd\n",
    "import git  # GitPython\n",
    "\n",
    "# Output CSV file\n",
    "output_file = \"lab4_diffs_raw.csv\"\n",
    "fieldnames = [\n",
    "    \"old_file\", \"new_file\", \"commit_sha\",\n",
    "    \"parent_sha\", \"commit_message\",\n",
    "    \"diff_myers\", \"diff_hist\"\n",
    "]\n",
    "\n",
    "with open(output_file, \"w\", newline=\"\", encoding=\"utf-8\", error=\"replace\") as f:\n",
    "    writer = csv.DictWriter(f, fieldnames=fieldnames)\n",
    "    writer.writeheader()\n",
    "\n",
    "    for repo_url in repos:\n",
    "        repo_name = repo_url.split(\"/\")[-1]\n",
    "        repo_path = f\"./cloned_repos/{repo_name}\"\n",
    "\n",
    "        # Clone if not already present\n",
    "        if not os.path.exists(repo_path):\n",
    "            os.system(f\"git clone {repo_url} {repo_path}\")\n",
    "\n",
    "        # Initialize GitPython repo object\n",
    "        git_repo = git.Repo(repo_path)\n",
    "\n",
    "        # Traverse commits\n",
    "        for commit in tqdm(Repository(repo_path).traverse_commits(),\n",
    "                           desc=f\"Processing {repo_name}\", unit=\"commit\"):\n",
    "\n",
    "            if not commit.parents:  # skip root commits\n",
    "                continue\n",
    "\n",
    "            parent_sha = commit.parents[0]\n",
    "\n",
    "            for mf in commit.modified_files:\n",
    "                file_path = mf.new_path or mf.old_path\n",
    "                try:\n",
    "                    # Myers diff directly from PyDriller\n",
    "                    diff_myers = mf.diff\n",
    "\n",
    "                    # Histogram diff from GitPython\n",
    "                    try:\n",
    "                        diff_hist = git_repo.git.diff(\n",
    "                            parent_sha, commit.hash,\n",
    "                            \"--\", file_path,\n",
    "                            diff_algorithm=\"histogram\"\n",
    "                        )\n",
    "                    except Exception as e:\n",
    "                        diff_hist = f\"Error computing hist diff: {e}\"\n",
    "\n",
    "                    row = {\n",
    "                        \"old_file\": mf.old_path,\n",
    "                        \"new_file\": mf.new_path,\n",
    "                        \"commit_sha\": commit.hash,\n",
    "                        \"parent_sha\": parent_sha,\n",
    "                        \"commit_message\": commit.msg,\n",
    "                        \"diff_myers\": diff_myers,\n",
    "                        \"diff_hist\": diff_hist\n",
    "                    }\n",
    "                    writer.writerow(row)\n",
    "\n",
    "                except Exception as e:\n",
    "                    print(\"Error:\", e)\n",
    "\n",
    "print(f\"Finished. Results saved to {output_file}\")\n",
    "df = pd.read_csv(output_file)\n"
   ]
  },
  {
   "cell_type": "markdown",
   "metadata": {},
   "source": [
    "## Activity (d): Compare Diff Outputs"
   ]
  },
  {
   "cell_type": "code",
   "execution_count": null,
   "metadata": {},
   "outputs": [
    {
     "data": {
      "text/html": [
       "<div>\n",
       "<style scoped>\n",
       "    .dataframe tbody tr th:only-of-type {\n",
       "        vertical-align: middle;\n",
       "    }\n",
       "\n",
       "    .dataframe tbody tr th {\n",
       "        vertical-align: top;\n",
       "    }\n",
       "\n",
       "    .dataframe thead th {\n",
       "        text-align: right;\n",
       "    }\n",
       "</style>\n",
       "<table border=\"1\" class=\"dataframe\">\n",
       "  <thead>\n",
       "    <tr style=\"text-align: right;\">\n",
       "      <th></th>\n",
       "      <th>old_file</th>\n",
       "      <th>new_file</th>\n",
       "      <th>commit_sha</th>\n",
       "      <th>parent_sha</th>\n",
       "      <th>commit_message</th>\n",
       "      <th>diff_myers</th>\n",
       "      <th>diff_hist</th>\n",
       "    </tr>\n",
       "  </thead>\n",
       "  <tbody>\n",
       "    <tr>\n",
       "      <th>0</th>\n",
       "      <td>NaN</td>\n",
       "      <td>.github/pull_request_template.md</td>\n",
       "      <td>6a4bea78199294fe509f15f8a8d3c10103bf8345</td>\n",
       "      <td>4db245826fa3201020457daac0369f57fa841216</td>\n",
       "      <td>added pull request template</td>\n",
       "      <td>diff --git a/.github/pull_request_template.md ...</td>\n",
       "      <td>diff --git a/.github/pull_request_template.md ...</td>\n",
       "    </tr>\n",
       "    <tr>\n",
       "      <th>1</th>\n",
       "      <td>README.md</td>\n",
       "      <td>README.md</td>\n",
       "      <td>3d93b109e7a0767fecffe5bac80e975d5eea60b9</td>\n",
       "      <td>6a4bea78199294fe509f15f8a8d3c10103bf8345</td>\n",
       "      <td>removed placeholder example</td>\n",
       "      <td>diff --git a/README.md b/README.md\\nindex 4f27...</td>\n",
       "      <td>diff --git a/README.md b/README.md\\nindex 4f27...</td>\n",
       "    </tr>\n",
       "    <tr>\n",
       "      <th>2</th>\n",
       "      <td>README.md</td>\n",
       "      <td>README.md</td>\n",
       "      <td>8394f95a7404f1f2fec3815a41b112a4a5090e48</td>\n",
       "      <td>3d93b109e7a0767fecffe5bac80e975d5eea60b9</td>\n",
       "      <td>fixed typo</td>\n",
       "      <td>diff --git a/README.md b/README.md\\nindex 5c91...</td>\n",
       "      <td>diff --git a/README.md b/README.md\\nindex 5c91...</td>\n",
       "    </tr>\n",
       "    <tr>\n",
       "      <th>3</th>\n",
       "      <td>.github/pull_request_template.md</td>\n",
       "      <td>.github/pull_request_template.md</td>\n",
       "      <td>ae08df25307b60599ac39df0f35075b0dc860bd5</td>\n",
       "      <td>8394f95a7404f1f2fec3815a41b112a4a5090e48</td>\n",
       "      <td>Added team url to PR template</td>\n",
       "      <td>diff --git a/.github/pull_request_template.md ...</td>\n",
       "      <td>diff --git a/.github/pull_request_template.md ...</td>\n",
       "    </tr>\n",
       "    <tr>\n",
       "      <th>4</th>\n",
       "      <td>README.md</td>\n",
       "      <td>README.md</td>\n",
       "      <td>bd1996dad88e8b24e60771d25de84a6e69e02934</td>\n",
       "      <td>ae08df25307b60599ac39df0f35075b0dc860bd5</td>\n",
       "      <td>Add project: Reddit Enhancement Suite</td>\n",
       "      <td>diff --git a/README.md b/README.md\\nindex 6a74...</td>\n",
       "      <td>diff --git a/README.md b/README.md\\nindex 6a74...</td>\n",
       "    </tr>\n",
       "    <tr>\n",
       "      <th>...</th>\n",
       "      <td>...</td>\n",
       "      <td>...</td>\n",
       "      <td>...</td>\n",
       "      <td>...</td>\n",
       "      <td>...</td>\n",
       "      <td>...</td>\n",
       "      <td>...</td>\n",
       "    </tr>\n",
       "    <tr>\n",
       "      <th>21048</th>\n",
       "      <td>Gemfile.lock</td>\n",
       "      <td>Gemfile.lock</td>\n",
       "      <td>8a979f84234073181ef19faf4a275ff6c240058a</td>\n",
       "      <td>f14442202583f1473f08cd8550005a45df2e6d7c</td>\n",
       "      <td>Bump connection_pool from 2.5.3 to 2.5.4\\n\\nBu...</td>\n",
       "      <td>diff --git a/Gemfile.lock b/Gemfile.lock\\ninde...</td>\n",
       "      <td>diff --git a/Gemfile.lock b/Gemfile.lock\\ninde...</td>\n",
       "    </tr>\n",
       "    <tr>\n",
       "      <th>21049</th>\n",
       "      <td>Gemfile.lock</td>\n",
       "      <td>Gemfile.lock</td>\n",
       "      <td>418d9269135f5a5bf73f8fdad78c19c04a85712d</td>\n",
       "      <td>f14442202583f1473f08cd8550005a45df2e6d7c</td>\n",
       "      <td>Bump oauth2 from 2.0.12 to 2.0.14\\n\\nBumps [oa...</td>\n",
       "      <td>diff --git a/Gemfile.lock b/Gemfile.lock\\ninde...</td>\n",
       "      <td>diff --git a/Gemfile.lock b/Gemfile.lock\\ninde...</td>\n",
       "    </tr>\n",
       "    <tr>\n",
       "      <th>21050</th>\n",
       "      <td>Gemfile.lock</td>\n",
       "      <td>Gemfile.lock</td>\n",
       "      <td>05f0a51ced1375e229c889f8cc01bac42c2fabd1</td>\n",
       "      <td>94771787856d3e79b548a7f8285fde4d6de16efc</td>\n",
       "      <td>Bump version_gem from 1.1.8 to 1.1.9\\n\\nBumps ...</td>\n",
       "      <td>diff --git a/Gemfile.lock b/Gemfile.lock\\ninde...</td>\n",
       "      <td>diff --git a/Gemfile.lock b/Gemfile.lock\\ninde...</td>\n",
       "    </tr>\n",
       "    <tr>\n",
       "      <th>21051</th>\n",
       "      <td>Gemfile.lock</td>\n",
       "      <td>Gemfile.lock</td>\n",
       "      <td>00ecacd40708fe989f080779b2cf3da14c685377</td>\n",
       "      <td>c039386849701db41032d5815de939181170873f</td>\n",
       "      <td>Bump bigdecimal from 3.2.2 to 3.2.3\\n\\nBumps [...</td>\n",
       "      <td>diff --git a/Gemfile.lock b/Gemfile.lock\\ninde...</td>\n",
       "      <td>diff --git a/Gemfile.lock b/Gemfile.lock\\ninde...</td>\n",
       "    </tr>\n",
       "    <tr>\n",
       "      <th>21052</th>\n",
       "      <td>Gemfile.lock</td>\n",
       "      <td>Gemfile.lock</td>\n",
       "      <td>6a98f973122d3659cb872194975878d6289c83bd</td>\n",
       "      <td>68a20ab600234538ab1edbf4a7343eaf805e6c5f</td>\n",
       "      <td>Bump puma from 6.6.1 to 7.0.0\\n\\nBumps [puma](...</td>\n",
       "      <td>diff --git a/Gemfile.lock b/Gemfile.lock\\ninde...</td>\n",
       "      <td>diff --git a/Gemfile.lock b/Gemfile.lock\\ninde...</td>\n",
       "    </tr>\n",
       "  </tbody>\n",
       "</table>\n",
       "<p>21053 rows × 7 columns</p>\n",
       "</div>"
      ],
      "text/plain": [
       "                               old_file                          new_file  \\\n",
       "0                                   NaN  .github/pull_request_template.md   \n",
       "1                             README.md                         README.md   \n",
       "2                             README.md                         README.md   \n",
       "3      .github/pull_request_template.md  .github/pull_request_template.md   \n",
       "4                             README.md                         README.md   \n",
       "...                                 ...                               ...   \n",
       "21048                      Gemfile.lock                      Gemfile.lock   \n",
       "21049                      Gemfile.lock                      Gemfile.lock   \n",
       "21050                      Gemfile.lock                      Gemfile.lock   \n",
       "21051                      Gemfile.lock                      Gemfile.lock   \n",
       "21052                      Gemfile.lock                      Gemfile.lock   \n",
       "\n",
       "                                     commit_sha  \\\n",
       "0      6a4bea78199294fe509f15f8a8d3c10103bf8345   \n",
       "1      3d93b109e7a0767fecffe5bac80e975d5eea60b9   \n",
       "2      8394f95a7404f1f2fec3815a41b112a4a5090e48   \n",
       "3      ae08df25307b60599ac39df0f35075b0dc860bd5   \n",
       "4      bd1996dad88e8b24e60771d25de84a6e69e02934   \n",
       "...                                         ...   \n",
       "21048  8a979f84234073181ef19faf4a275ff6c240058a   \n",
       "21049  418d9269135f5a5bf73f8fdad78c19c04a85712d   \n",
       "21050  05f0a51ced1375e229c889f8cc01bac42c2fabd1   \n",
       "21051  00ecacd40708fe989f080779b2cf3da14c685377   \n",
       "21052  6a98f973122d3659cb872194975878d6289c83bd   \n",
       "\n",
       "                                     parent_sha  \\\n",
       "0      4db245826fa3201020457daac0369f57fa841216   \n",
       "1      6a4bea78199294fe509f15f8a8d3c10103bf8345   \n",
       "2      3d93b109e7a0767fecffe5bac80e975d5eea60b9   \n",
       "3      8394f95a7404f1f2fec3815a41b112a4a5090e48   \n",
       "4      ae08df25307b60599ac39df0f35075b0dc860bd5   \n",
       "...                                         ...   \n",
       "21048  f14442202583f1473f08cd8550005a45df2e6d7c   \n",
       "21049  f14442202583f1473f08cd8550005a45df2e6d7c   \n",
       "21050  94771787856d3e79b548a7f8285fde4d6de16efc   \n",
       "21051  c039386849701db41032d5815de939181170873f   \n",
       "21052  68a20ab600234538ab1edbf4a7343eaf805e6c5f   \n",
       "\n",
       "                                          commit_message  \\\n",
       "0                            added pull request template   \n",
       "1                            removed placeholder example   \n",
       "2                                             fixed typo   \n",
       "3                          Added team url to PR template   \n",
       "4                  Add project: Reddit Enhancement Suite   \n",
       "...                                                  ...   \n",
       "21048  Bump connection_pool from 2.5.3 to 2.5.4\\n\\nBu...   \n",
       "21049  Bump oauth2 from 2.0.12 to 2.0.14\\n\\nBumps [oa...   \n",
       "21050  Bump version_gem from 1.1.8 to 1.1.9\\n\\nBumps ...   \n",
       "21051  Bump bigdecimal from 3.2.2 to 3.2.3\\n\\nBumps [...   \n",
       "21052  Bump puma from 6.6.1 to 7.0.0\\n\\nBumps [puma](...   \n",
       "\n",
       "                                              diff_myers  \\\n",
       "0      diff --git a/.github/pull_request_template.md ...   \n",
       "1      diff --git a/README.md b/README.md\\nindex 4f27...   \n",
       "2      diff --git a/README.md b/README.md\\nindex 5c91...   \n",
       "3      diff --git a/.github/pull_request_template.md ...   \n",
       "4      diff --git a/README.md b/README.md\\nindex 6a74...   \n",
       "...                                                  ...   \n",
       "21048  diff --git a/Gemfile.lock b/Gemfile.lock\\ninde...   \n",
       "21049  diff --git a/Gemfile.lock b/Gemfile.lock\\ninde...   \n",
       "21050  diff --git a/Gemfile.lock b/Gemfile.lock\\ninde...   \n",
       "21051  diff --git a/Gemfile.lock b/Gemfile.lock\\ninde...   \n",
       "21052  diff --git a/Gemfile.lock b/Gemfile.lock\\ninde...   \n",
       "\n",
       "                                               diff_hist  \n",
       "0      diff --git a/.github/pull_request_template.md ...  \n",
       "1      diff --git a/README.md b/README.md\\nindex 4f27...  \n",
       "2      diff --git a/README.md b/README.md\\nindex 5c91...  \n",
       "3      diff --git a/.github/pull_request_template.md ...  \n",
       "4      diff --git a/README.md b/README.md\\nindex 6a74...  \n",
       "...                                                  ...  \n",
       "21048  diff --git a/Gemfile.lock b/Gemfile.lock\\ninde...  \n",
       "21049  diff --git a/Gemfile.lock b/Gemfile.lock\\ninde...  \n",
       "21050  diff --git a/Gemfile.lock b/Gemfile.lock\\ninde...  \n",
       "21051  diff --git a/Gemfile.lock b/Gemfile.lock\\ninde...  \n",
       "21052  diff --git a/Gemfile.lock b/Gemfile.lock\\ninde...  \n",
       "\n",
       "[21053 rows x 7 columns]"
      ]
     },
     "execution_count": 4,
     "metadata": {},
     "output_type": "execute_result"
    }
   ],
   "source": [
    "import pandas as pd\n",
    "df = pd.read_csv(\"lab4_diffs_raw.csv\")\n",
    "df"
   ]
  },
  {
   "cell_type": "code",
   "execution_count": 8,
   "metadata": {},
   "outputs": [
    {
     "data": {
      "text/plain": [
       "Discrepancy\n",
       "NO     18434\n",
       "YES     2619\n",
       "Name: count, dtype: int64"
      ]
     },
     "execution_count": 8,
     "metadata": {},
     "output_type": "execute_result"
    }
   ],
   "source": [
    "df['diff_myers'] = df['diff_myers'].fillna(\"\")\n",
    "df['diff_hist'] = df['diff_hist'].fillna(\"\")\n",
    "\n",
    "df['Discrepancy'] = df.apply(\n",
    "    lambda row: \"NO\" if row['diff_myers'].strip() == row['diff_hist'].strip() else \"YES\",\n",
    "    axis=1\n",
    ")\n",
    "\n",
    "df.to_csv(\"lab4_diffs_with_discrepancy.csv\", index=False)\n",
    "df['Discrepancy'].value_counts()\n"
   ]
  },
  {
   "cell_type": "markdown",
   "metadata": {},
   "source": [
    "## Activity (e): Final Dataset Statistics + Plots"
   ]
  },
  {
   "cell_type": "code",
   "execution_count": null,
   "metadata": {},
   "outputs": [
    {
     "name": "stdout",
     "output_type": "stream",
     "text": [
      "Mismatch counts:\n",
      " category\n",
      "Source    996\n",
      "Test      935\n",
      "Other     663\n",
      "README     25\n",
      "Name: count, dtype: int64\n"
     ]
    },
    {
     "data": {
      "image/png": "[encoded data removed]",
      "text/plain": [
       "<Figure size 640x480 with 1 Axes>"
      ]
     },
     "metadata": {},
     "output_type": "display_data"
    }
   ],
   "source": [
    "import matplotlib.pyplot as plt\n",
    "\n",
    "def file_category(filename):\n",
    "    if not isinstance(filename, str):\n",
    "        return \"Other\"\n",
    "    f = filename.lower()\n",
    "    if \"test\" in f:\n",
    "        return \"Test\"\n",
    "    elif \"readme\" in f:\n",
    "        return \"README\"\n",
    "    elif \"license\" in f:\n",
    "        return \"LICENSE\"\n",
    "    elif f.endswith((\".c\", \".cpp\", \".py\", \".java\", \".h\", \".hpp\", \".js\")):\n",
    "        return \"Source\"\n",
    "    else:\n",
    "        return \"Other\"\n",
    "\n",
    "\n",
    "df['category'] = df['new_file'].apply(file_category)\n",
    "\n",
    "stats = df[df['Discrepancy']==\"YES\"]['category'].value_counts()\n",
    "print(\"Mismatch counts:\\n\", stats)\n",
    "\n",
    "# Plot\n",
    "stats.plot(kind=\"bar\", title=\"Mismatches by file category\")\n",
    "plt.ylabel(\"Count\")\n",
    "plt.show()\n"
   ]
  },
  {
   "cell_type": "markdown",
   "metadata": {},
   "source": [
    "## Save Final Table"
   ]
  },
  {
   "cell_type": "code",
   "execution_count": 11,
   "metadata": {},
   "outputs": [],
   "source": [
    "df.to_csv(\"lab4_final_dataset.csv\", index=False)"
   ]
  },
  {
   "cell_type": "code",
   "execution_count": 3,
   "metadata": {},
   "outputs": [],
   "source": [
    "import pandas as pd\n",
    "df = pd.read_csv(\"lab4_final_dataset.csv\")"
   ]
  },
  {
   "cell_type": "code",
   "execution_count": 4,
   "metadata": {},
   "outputs": [
    {
     "data": {
      "text/plain": [
       "'diff --git a/.github/pull_request_template.md b/.github/pull_request_template.md\\nnew file mode 100644\\nindex 0000000..0b28545\\n--- /dev/null\\n+++ b/.github/pull_request_template.md\\n@@ -0,0 +1,30 @@\\n+## Your project\\n+\\n+**Project name**:  \\n+\\n+**Short description**:\\n+\\n+**Project age**: \\n+\\n+**Number of core contributors**:\\n+\\n+**Project website**:\\n+\\n+**Repository url**:\\n+\\n+**Latest release url**:\\n+\\n+**License type**: e.g. MIT, BSD, GPL, etc\\n+\\n+**License url**: A copy of the license terms and conditions for your software.\\n+\\n+\\n+## Tell us about yourself\\n+\\n+**Name**: \\n+\\n+**Email**:\\n+\\n+**Project role**:\\n+\\n+**Website**: link to GitHub profile page, project page bio, etc\\n\\\\ No newline at end of file\\n'"
      ]
     },
     "execution_count": 4,
     "metadata": {},
     "output_type": "execute_result"
    }
   ],
   "source": [
    "df[\"diff_myers\"][0]"
   ]
  },
  {
   "cell_type": "code",
   "execution_count": 5,
   "metadata": {},
   "outputs": [
    {
     "data": {
      "text/plain": [
       "'diff --git a/.github/pull_request_template.md b/.github/pull_request_template.md\\nnew file mode 100644\\nindex 0000000..0b28545\\n--- /dev/null\\n+++ b/.github/pull_request_template.md\\n@@ -0,0 +1,30 @@\\n+## Your project\\n+\\n+**Project name**:  \\n+\\n+**Short description**:\\n+\\n+**Project age**: \\n+\\n+**Number of core contributors**:\\n+\\n+**Project website**:\\n+\\n+**Repository url**:\\n+\\n+**Latest release url**:\\n+\\n+**License type**: e.g. MIT, BSD, GPL, etc\\n+\\n+**License url**: A copy of the license terms and conditions for your software.\\n+\\n+\\n+## Tell us about yourself\\n+\\n+**Name**: \\n+\\n+**Email**:\\n+\\n+**Project role**:\\n+\\n+**Website**: link to GitHub profile page, project page bio, etc\\n\\\\ No newline at end of file\\n'"
      ]
     },
     "execution_count": 5,
     "metadata": {},
     "output_type": "execute_result"
    }
   ],
   "source": [
    "df[\"diff_hist\"][0]"
   ]
  }
 ],
 "metadata": {
  "kernelspec": {
   "display_name": "Python 3",
   "language": "python",
   "name": "python3"
  },
  "language_info": {
   "codemirror_mode": {
    "name": "ipython",
    "version": 3
   },
   "file_extension": ".py",
   "mimetype": "text/x-python",
   "name": "python",
   "nbconvert_exporter": "python",
   "pygments_lexer": "ipython3",
   "version": "3.13.3"
  }
 },
 "nbformat": 4,
 "nbformat_minor": 2
}
